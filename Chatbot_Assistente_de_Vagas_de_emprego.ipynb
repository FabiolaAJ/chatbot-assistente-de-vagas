{
  "nbformat": 4,
  "nbformat_minor": 0,
  "metadata": {
    "colab": {
      "provenance": [],
      "authorship_tag": "ABX9TyNrS2vK50Wu32lpkPLNlqDC",
      "include_colab_link": true
    },
    "kernelspec": {
      "name": "python3",
      "display_name": "Python 3"
    },
    "language_info": {
      "name": "python"
    }
  },
  "cells": [
    {
      "cell_type": "markdown",
      "metadata": {
        "id": "view-in-github",
        "colab_type": "text"
      },
      "source": [
        "<a href=\"https://colab.research.google.com/github/FabiolaAJ/chatbot-assistente-de-vagas/blob/main/Chatbot_Assistente_de_Vagas_de_emprego.ipynb\" target=\"_parent\"><img src=\"https://colab.research.google.com/assets/colab-badge.svg\" alt=\"Open In Colab\"/></a>"
      ]
    },
    {
      "cell_type": "code",
      "source": [
        "%pip -q install google-genai"
      ],
      "metadata": {
        "id": "t5ZGe_I5hort"
      },
      "execution_count": null,
      "outputs": []
    },
    {
      "cell_type": "code",
      "source": [
        "!pip install -q google-adk"
      ],
      "metadata": {
        "id": "VOjPCyyIh8W3"
      },
      "execution_count": null,
      "outputs": []
    },
    {
      "cell_type": "code",
      "source": [
        "import os\n",
        "from google.colab import userdata\n",
        "from google.adk.agents import Agent\n",
        "from google.adk.runners import Runner\n",
        "from google.adk.sessions import InMemorySessionService\n",
        "from google.adk.tools import google_search\n",
        "from google.genai import types  # Para criar conteúdos (Content e Part)\n",
        "from datetime import date\n",
        "import textwrap # Para formatar melhor a saída de texto\n",
        "from IPython.display import display, Markdown # Para exibir texto formatado no Colab\n",
        "import requests # Para fazer requisições HTTP\n",
        "import warnings\n",
        "from IPython.display import clear_output\n",
        "\n",
        "os.environ['GOOGLE_API_KEY'] = userdata.get('GOOGLE_API_KEY')\n",
        "\n",
        "warnings.filterwarnings(\"ignore\")\n",
        "\n",
        "# Função auxiliar que envia uma mensagem para um agente via Runner e retorna a resposta final\n",
        "def call_agent(agent: Agent, message_text: str) -> str:\n",
        "    # Cria um serviço de sessão em memória\n",
        "    session_service = InMemorySessionService()\n",
        "    # Cria uma nova sessão (você pode personalizar os IDs conforme necessário)\n",
        "    session = session_service.create_session(app_name=agent.name, user_id=\"user1\", session_id=\"session1\")\n",
        "    # Cria um Runner para o agente\n",
        "    runner = Runner(agent=agent, app_name=agent.name, session_service=session_service)\n",
        "    # Cria o conteúdo da mensagem de entrada\n",
        "    content = types.Content(role=\"user\", parts=[types.Part(text=message_text)])\n",
        "\n",
        "    final_response = \"\"\n",
        "    # Itera assincronamente pelos eventos retornados durante a execução do agente\n",
        "    for event in runner.run(user_id=\"user1\", session_id=\"session1\", new_message=content):\n",
        "        if event.is_final_response():\n",
        "          for part in event.content.parts:\n",
        "            if part.text is not None:\n",
        "              final_response += part.text\n",
        "              final_response += \"\\n\"\n",
        "    return final_response\n",
        "\n",
        "# Função auxiliar para exibir texto formatado em Markdown no Colab\n",
        "def to_markdown(text):\n",
        "  text = text.replace('•', '  *')\n",
        "  return Markdown(textwrap.indent(text, '> ', predicate=lambda _: True))"
      ],
      "metadata": {
        "id": "fRqjscaps1PR"
      },
      "execution_count": 178,
      "outputs": []
    },
    {
      "cell_type": "code",
      "source": [
        "##########################################\n",
        "# --- Agente 1: Buscador de Vagas --- #\n",
        "##########################################\n",
        "def agente_buscador_vagas_de_emprego(profissao, area, senioridade, data_de_hoje):\n",
        "\n",
        "    buscador = Agent(\n",
        "        name=\"agente_buscador_de_vagas\",\n",
        "        model=\"gemini-2.0-flash\",\n",
        "        instruction=\"\"\"\n",
        "        Você é um assistente simpático especializado na busca de vagas de emprego.\n",
        "        Use a ferramenta de busca do google (google_search) para encontrar até 5 vagas relevantes e atuais para a profissão e senioridade do usuário.\n",
        "\n",
        "          1. **Interpretação:** Analise profissão e senioridade. Se a senioridade faltar, pergunte.\n",
        "          2. **Busca (google_search):** Combine profissão, área, senioridade e informe se a vaga é hibrida, presencial ou remoto. Foque em resultados que provavelmente contenham links diretos para a página da vaga.\n",
        "          3. **Filtragem:** Priorize vagas recentes verificando a data de hoje (data_de_hoje). Descarte vagas antigas ou encerradas.\n",
        "          4. **Resposta (máximo 5 vagas):** Para cada vaga, retorne título, empresa, localização (se disponível), breve descrição com requisitos para vaga, não faça questionamentos adicionais para o usuário.\n",
        "          5. **Link:** [**Link direto para a página da vaga**. Este é um campo obrigatório. Tente ao máximo encontrar o link nos resultados da busca.]\n",
        "          6. **Sem Resultados:** Se não houver vagas relevantes e atuais, informe o usuário.\n",
        "\n",
        "          Priorize informações precisas e atuais.\n",
        "\n",
        "        \"\"\",\n",
        "        description=\"Agente que busca informações de vagas de empregos no Google\",\n",
        "        tools=[google_search]\n",
        "    )\n",
        "\n",
        "    entrada_do_agente_buscador = f\"Profissão: {profissao} \\n Area:{area} \\n Senioridade:{senioridade} \\n Data de hoje: {data_de_hoje}\"\n",
        "\n",
        "    lancamentos = call_agent(buscador, entrada_do_agente_buscador)\n",
        "    return lancamentos"
      ],
      "metadata": {
        "id": "hvRnO_H528q1"
      },
      "execution_count": 179,
      "outputs": []
    },
    {
      "cell_type": "code",
      "source": [
        "################################################\n",
        "# --- Agente 2: Planejador de carreira e recrutamento --- #\n",
        "################################################\n",
        "def agente_planejador_de_carreira(profissao, area, senioridade, lancamentos_buscados):\n",
        "    planejador = Agent(\n",
        "        name=\"agente_planejador\",\n",
        "        model=\"gemini-2.0-flash\",\n",
        "        # Inserir as instruções do Agente Planejador #################################################\n",
        "        instruction=\"\"\"\n",
        "        Você é um especialista em carreira e recrutamento muito gentil e simpático, com vasta experiência em ajudar candidatos a se prepararem para processos seletivos.\n",
        "        Gere dicas para se destacar, considerando os seguintes tópicos:\n",
        "             1. Quais habilidades e experiências o candidato deve enfatizar?\n",
        "             2. Forneça até 2 dicas concisas sobre como o usuário pode se organizar para se candidatar as vagas (ex: adaptar currículo, pesquisar a empresa).\n",
        "             3. Ao final cite dicas gerais de como se destacar no mercado de trabalho de acordo com a profissão do usuário\n",
        "        \"\"\",\n",
        "        description=\"Agente planejador especialista em carreira\",\n",
        "        tools=[google_search]\n",
        "    )\n",
        "\n",
        "    entrada_do_agente_planejador = f\"Profissão: {profissao} \\n Area:{area}  \\n Senioridade:{senioridade} \\n Buscados: {lancamentos_buscados}\"\n",
        "\n",
        "    # Executa o agente\n",
        "    lancamento_planejamento = call_agent(planejador, entrada_do_agente_planejador)\n",
        "    return lancamento_planejamento"
      ],
      "metadata": {
        "id": "4VEEZtq3Ctv4"
      },
      "execution_count": 180,
      "outputs": []
    },
    {
      "cell_type": "code",
      "source": [
        "def agente_responder_duvidas(profissao, area, senioridade, duvida, lancamentos_buscados, lancamento_planejamento):\n",
        "\n",
        "    buscador = Agent(\n",
        "        name=\"agente_buscador_de_vagas\",\n",
        "        model=\"gemini-2.0-flash\",\n",
        "        instruction=\"\"\"\n",
        "        Você é um assistente de carreira e você sempre responde de forma gentil e de facil entendimento.\n",
        "        Use a ferramenta de busca do google (google_search) para tirar a dúvida do usuário sobre sua carreira, responda de forma resumida.\n",
        "        \"\"\",\n",
        "        description=\"Agente para tirar dúvidas de carreira\",\n",
        "        tools=[google_search]\n",
        "    )\n",
        "\n",
        "    entrada_do_agente_buscador = f\"Dúvida: {duvida}\\n Profissao:{profissao} \\n Area:{area} \\n Senioridade:{senioridade} \\n Buscados: {lancamentos_buscados} \\n Planejador: {lancamento_planejamento}  \\n Data de hoje: {data_de_hoje}\"\n",
        "\n",
        "    lancamentos = call_agent(buscador, entrada_do_agente_buscador)\n",
        "    return lancamentos"
      ],
      "metadata": {
        "id": "TVw0-W68k8MR"
      },
      "execution_count": 186,
      "outputs": []
    },
    {
      "cell_type": "code",
      "source": [
        "def obter_input_obrigatorio(mensagem_inicial, mensagem_erro):\n",
        "    # Exibe a mensagem inicial para o usuário, solicitando a entrada.\n",
        "    valor = input(f\"\\n{mensagem_inicial} \")\n",
        "\n",
        "    # Inicia um loop 'while' que continuará executando enquanto a condição for verdadeira.\n",
        "    # A condição 'not valor.strip()' verifica se a variável 'valor' está vazia ou contém apenas espaços em branco.\n",
        "    # 'valor.strip()' remove os espaços em branco do início e do final da string.\n",
        "    # Se após a remoção dos espaços, a string estiver vazia, a condição será 'True' e o loop continuará.\n",
        "    while not valor.strip():\n",
        "        # Exibe a mensagem de erro informando ao usuário que a entrada é obrigatória.\n",
        "        print(f\"{mensagem_erro}\")\n",
        "\n",
        "        # Solicita novamente a entrada do usuário, exibindo a mensagem inicial novamente.\n",
        "        valor = input(f\"\\n{mensagem_inicial}\")\n",
        "\n",
        "    # Quando o loop 'while' terminar (ou seja, o usuário digitou algo que não é apenas espaço),\n",
        "    # a função retorna o valor digitado, com quaisquer espaços em branco iniciais e finais removidos\n",
        "    # usando o método 'strip()'.\n",
        "    return valor.strip()"
      ],
      "metadata": {
        "id": "AqfR89jBRIG8"
      },
      "execution_count": 182,
      "outputs": []
    },
    {
      "cell_type": "code",
      "source": [
        "def tirar_duvidas(profissao, area, senioridade, resposta_buscador, resposta_planejador):\n",
        "    questionario = \"S\"\n",
        "\n",
        "    while questionario.upper() == \"S\" :\n",
        "      print(\"\\n Ficou com alguma dúvida? Pode contar comigo!😉 (caso não tenha dúvidas digite 'N') \\n\")\n",
        "      duvida = input(\"\")\n",
        "      if(duvida.upper() == 'N'):\n",
        "        break;\n",
        "      else:\n",
        "        print(\"\\n🔄 Processando resposta...\")\n",
        "        resposta_duvida = agente_responder_duvidas(profissao, area, senioridade, duvida, resposta_buscador, resposta_planejador)\n",
        "        display(to_markdown(resposta_duvida))\n",
        "\n",
        "        print(\"\\n Se deseja tirar outra dúvida digite 'S'(caso não tenha, digite qualquer tecla): \\n\")\n",
        "        questionario = input(\"\")\n",
        "\n",
        "        if(questionario.upper() != \"S\"):\n",
        "          break;\n"
      ],
      "metadata": {
        "id": "qF6L3T9mmUGN"
      },
      "execution_count": 207,
      "outputs": []
    },
    {
      "cell_type": "code",
      "source": [
        "def exibir_resultados(profissao, area, senioridade):\n",
        "    print(f\"\")\n",
        "\n",
        "    data_de_hoje = date.today().strftime(\"%d/%m/%Y\")\n",
        "\n",
        "    resposta_buscador = agente_buscador_vagas_de_emprego(profissao, area, senioridade, data_de_hoje)\n",
        "    print(\"\\n 📝 Essas foram as vagas encontradas! \\n\")\n",
        "    display(to_markdown(resposta_buscador))\n",
        "    print(\"--------------------------------------------------------------\")\n",
        "\n",
        "    print(\"\\n🔄 Processando resultados de planejamento...\")\n",
        "    resposta_planejador = agente_planejador_de_carreira(profissao, area, senioridade, resposta_buscador)\n",
        "    print(\"\\n 🚀 Algumas dicas para decolar em seu processo seletivo! 🚀 \\n\")\n",
        "    display(to_markdown(resposta_planejador))\n",
        "    print(\"--------------------------------------------------------------\")\n",
        "\n",
        "    tirar_duvidas(profissao, area, senioridade, resposta_buscador, resposta_planejador)\n",
        "\n",
        "    return"
      ],
      "metadata": {
        "id": "CX4LJ5swPwTM"
      },
      "execution_count": 184,
      "outputs": []
    },
    {
      "cell_type": "code",
      "source": [
        "def main():\n",
        "  exibir_questionario = \"1\";\n",
        "\n",
        "  while exibir_questionario == \"1\" :\n",
        "    clear_output(wait=True)\n",
        "\n",
        "    print(\"\\n Olá, tudo bem por aí? 😊 Que bom te ter aqui!\")\n",
        "    print(\"\\n Sou seu assistente virtual de carreira, pronto para te dar uma mãozinha especial na busca daquela vaga de emprego e te preparar para o sucesso nas entrevistas! 🎉\")\n",
        "    print(\"\\n--------------------------------------------------------------\")\n",
        "\n",
        "    profissao = obter_input_obrigatorio(\"❓Me conta qual a profissão que te interessa encontrar vagas hoje? \", \"/n Hmm, para que eu te ajude a achar as melhores vagas, preciso que me conte qual profissão você busca, tá bem? 😉 \")\n",
        "    area = obter_input_obrigatorio(\"❓Legal! qual a área específica dentro dessa profissão você deseja atuar? (Por exemplo: UX, Gestão, Frontend, Backend) \" , \"É importante me informar qual área específica dentro dessa profissão deseja atuar!😊 \")\n",
        "    senioridade = obter_input_obrigatorio(\"❓E qual o seu nível de experiência? (Por exemplo: pleno, sênior, júnior, estágio...) \", \"Porfavor, digite seu nível de experiência para refinar a busca! 😊 \")\n",
        "\n",
        "    print(\"\\n🔄 Processando resultados...\")\n",
        "    exibir_resultados(profissao, area, senioridade)\n",
        "\n",
        "    print(\"\\n Se deseja procurar outra vaga, digite 1 (para encerrar digite qualquer tecla): \\n\")\n",
        "\n",
        "    exibir_questionario = input(\"\")\n",
        "\n",
        "    if(exibir_questionario != '1'):\n",
        "      print(\"\\n Até a próxima! 😊\")\n",
        "      break;\n",
        "\n",
        "\n",
        "main()\n",
        "\n",
        ""
      ],
      "metadata": {
        "colab": {
          "base_uri": "https://localhost:8080/"
        },
        "id": "zmwil2QCHAJj",
        "outputId": "85597ea0-2c89-448d-9aff-c41f5942abfd"
      },
      "execution_count": null,
      "outputs": [
        {
          "output_type": "stream",
          "name": "stdout",
          "text": [
            "\n",
            " Olá, tudo bem por aí? 😊 Que bom te ter aqui!\n",
            "\n",
            " Sou seu assistente virtual de carreira, pronto para te dar uma mãozinha especial na busca daquela vaga de emprego e te preparar para o sucesso nas entrevistas! 🎉\n",
            "\n",
            "--------------------------------------------------------------\n"
          ]
        }
      ]
    },
    {
      "cell_type": "markdown",
      "source": [],
      "metadata": {
        "id": "HYQMqru3Jpdh"
      }
    }
  ]
}