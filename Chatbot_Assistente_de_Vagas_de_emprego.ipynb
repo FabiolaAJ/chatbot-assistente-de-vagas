{
  "nbformat": 4,
  "nbformat_minor": 0,
  "metadata": {
    "colab": {
      "provenance": [],
      "authorship_tag": "ABX9TyMjGh4miq5L9DNAJZSc8MnK",
      "include_colab_link": true
    },
    "kernelspec": {
      "name": "python3",
      "display_name": "Python 3"
    },
    "language_info": {
      "name": "python"
    }
  },
  "cells": [
    {
      "cell_type": "markdown",
      "metadata": {
        "id": "view-in-github",
        "colab_type": "text"
      },
      "source": [
        "<a href=\"https://colab.research.google.com/github/FabiolaAJ/chatbot-assistente-de-vagas/blob/main/Chatbot_Assistente_de_Vagas_de_emprego.ipynb\" target=\"_parent\"><img src=\"https://colab.research.google.com/assets/colab-badge.svg\" alt=\"Open In Colab\"/></a>"
      ]
    },
    {
      "cell_type": "code",
      "source": [
        "import os\n",
        "from google.colab import userdata\n",
        "from google.adk.agents import Agent\n",
        "from google.adk.runners import Runner\n",
        "from google.adk.sessions import InMemorySessionService\n",
        "from google.adk.tools import google_search\n",
        "from google.genai import types  # Para criar conteúdos (Content e Part)\n",
        "from datetime import date\n",
        "import textwrap # Para formatar melhor a saída de texto\n",
        "from IPython.display import display, Markdown # Para exibir texto formatado no Colab\n",
        "import requests # Para fazer requisições HTTP\n",
        "import warnings\n",
        "from IPython.display import clear_output\n",
        "\n",
        "os.environ['GOOGLE_API_KEY'] = userdata.get('GOOGLE_API_KEY')\n",
        "\n",
        "warnings.filterwarnings(\"ignore\")\n",
        "\n",
        "# Função auxiliar que envia uma mensagem para um agente via Runner e retorna a resposta final\n",
        "def call_agent(agent: Agent, message_text: str) -> str:\n",
        "    # Cria um serviço de sessão em memória\n",
        "    session_service = InMemorySessionService()\n",
        "    # Cria uma nova sessão (você pode personalizar os IDs conforme necessário)\n",
        "    session = session_service.create_session(app_name=agent.name, user_id=\"user1\", session_id=\"session1\")\n",
        "    # Cria um Runner para o agente\n",
        "    runner = Runner(agent=agent, app_name=agent.name, session_service=session_service)\n",
        "    # Cria o conteúdo da mensagem de entrada\n",
        "    content = types.Content(role=\"user\", parts=[types.Part(text=message_text)])\n",
        "\n",
        "    final_response = \"\"\n",
        "    # Itera assincronamente pelos eventos retornados durante a execução do agente\n",
        "    for event in runner.run(user_id=\"user1\", session_id=\"session1\", new_message=content):\n",
        "        if event.is_final_response():\n",
        "          for part in event.content.parts:\n",
        "            if part.text is not None:\n",
        "              final_response += part.text\n",
        "              final_response += \"\\n\"\n",
        "    return final_response\n",
        "\n",
        "# Função auxiliar para exibir texto formatado em Markdown no Colab\n",
        "def to_markdown(text):\n",
        "  text = text.replace('•', '  *')\n",
        "  return Markdown(textwrap.indent(text, '> ', predicate=lambda _: True))"
      ],
      "metadata": {
        "id": "fRqjscaps1PR"
      },
      "execution_count": 143,
      "outputs": []
    },
    {
      "cell_type": "code",
      "source": [
        "##########################################\n",
        "# --- Agente 1: Buscador de Vagas --- #\n",
        "##########################################\n",
        "def agente_buscador_vagas_de_emprego(profissao, area, senioridade, data_de_hoje):\n",
        "\n",
        "    buscador = Agent(\n",
        "        name=\"agente_buscador_de_vagas\",\n",
        "        model=\"gemini-2.0-flash\",\n",
        "        instruction=\"\"\"\n",
        "        Você é um assistente simpático especializado na busca de vagas de emprego.\n",
        "        Use a ferramenta de busca do google (google_search) para encontrar até 5 vagas relevantes e atuais para a profissão e senioridade do usuário.\n",
        "\n",
        "          1. **Interpretação:** Analise profissão e senioridade. Se a senioridade faltar, pergunte.\n",
        "          2. **Busca (google_search):** Combine profissão, área, senioridade e informe se a vaga é hibrida, presencial ou remoto. Foque em resultados que provavelmente contenham links diretos para a página da vaga.\n",
        "          3. **Filtragem:** Priorize vagas recentes verificando a data de hoje (data_de_hoje). Descarte vagas antigas ou encerradas.\n",
        "          4. **Resposta (máximo 5 vagas):** Para cada vaga, retorne título, empresa, localização (se disponível), breve descrição com requisitos para vaga, não faça questionamentos adicionais para o usuário.\n",
        "          5. **Link:** [**Link direto para a página da vaga**. Este é um campo obrigatório. Tente ao máximo encontrar o link nos resultados da busca.]\n",
        "          6. **Sem Resultados:** Se não houver vagas relevantes e atuais, informe o usuário.\n",
        "\n",
        "          Priorize informações precisas e atuais.\n",
        "\n",
        "        \"\"\",\n",
        "        description=\"Agente que busca informações de vagas de empregos no Google\",\n",
        "        tools=[google_search]\n",
        "    )\n",
        "\n",
        "    entrada_do_agente_buscador = f\"Profissão: {profissao} \\n Area:{area} \\n Senioridade:{senioridade} \\n Data de hoje: {data_de_hoje}\"\n",
        "\n",
        "    lancamentos = call_agent(buscador, entrada_do_agente_buscador)\n",
        "    return lancamentos"
      ],
      "metadata": {
        "id": "hvRnO_H528q1"
      },
      "execution_count": 162,
      "outputs": []
    },
    {
      "cell_type": "code",
      "source": [
        "################################################\n",
        "# --- Agente 2: Planejador de carreira e recrutamento --- #\n",
        "################################################\n",
        "def agente_planejador_de_carreira(profissao, area, senioridade, lancamentos_buscados):\n",
        "    planejador = Agent(\n",
        "        name=\"agente_planejador\",\n",
        "        model=\"gemini-2.0-flash\",\n",
        "        # Inserir as instruções do Agente Planejador #################################################\n",
        "        instruction=\"\"\"\n",
        "        Você é um especialista em carreira e recrutamento muito gentil e simpático, com vasta experiência em ajudar candidatos a se prepararem para processos seletivos.\n",
        "        Gere dicas para se destacar, considerando os seguintes tópicos:\n",
        "             1. Quais habilidades e experiências o candidato deve enfatizar?\n",
        "             2. Forneça até 2 dicas concisas sobre como o usuário pode se organizar para se candidatar as vagas (ex: adaptar currículo, pesquisar a empresa).\n",
        "             3. Ao final cite dicas gerais de como se destacar no mercado de trabalho de acordo com a profissão do usuário\n",
        "        \"\"\",\n",
        "        description=\"Agente planejador especialista em carreira\",\n",
        "        tools=[google_search]\n",
        "    )\n",
        "\n",
        "    entrada_do_agente_planejador = f\"Profissão: {profissao} \\n Area:{area}  \\n Senioridade:{senioridade} \\n Buscados: {lancamentos_buscados}\"\n",
        "\n",
        "    # Executa o agente\n",
        "    plano_do_post = call_agent(planejador, entrada_do_agente_planejador)\n",
        "    return plano_do_post"
      ],
      "metadata": {
        "id": "4VEEZtq3Ctv4"
      },
      "execution_count": 145,
      "outputs": []
    },
    {
      "cell_type": "code",
      "source": [
        "def obter_input_obrigatorio(mensagem_inicial, mensagem_erro):\n",
        "    # Exibe a mensagem inicial para o usuário, solicitando a entrada.\n",
        "    valor = input(f\"\\n{mensagem_inicial} \")\n",
        "\n",
        "    # Inicia um loop 'while' que continuará executando enquanto a condição for verdadeira.\n",
        "    # A condição 'not valor.strip()' verifica se a variável 'valor' está vazia ou contém apenas espaços em branco.\n",
        "    # 'valor.strip()' remove os espaços em branco do início e do final da string.\n",
        "    # Se após a remoção dos espaços, a string estiver vazia, a condição será 'True' e o loop continuará.\n",
        "    while not valor.strip():\n",
        "        # Exibe a mensagem de erro informando ao usuário que a entrada é obrigatória.\n",
        "        print(f\"{mensagem_erro}\")\n",
        "\n",
        "        # Solicita novamente a entrada do usuário, exibindo a mensagem inicial novamente.\n",
        "        valor = input(f\"\\n{mensagem_inicial}\")\n",
        "\n",
        "    # Quando o loop 'while' terminar (ou seja, o usuário digitou algo que não é apenas espaço),\n",
        "    # a função retorna o valor digitado, com quaisquer espaços em branco iniciais e finais removidos\n",
        "    # usando o método 'strip()'.\n",
        "    return valor.strip()"
      ],
      "metadata": {
        "id": "AqfR89jBRIG8"
      },
      "execution_count": 154,
      "outputs": []
    },
    {
      "cell_type": "code",
      "source": [
        "def exibir_resultados(profissao, area, senioridade):\n",
        "    print(f\"\")\n",
        "\n",
        "    data_de_hoje = date.today().strftime(\"%d/%m/%Y\")\n",
        "\n",
        "    resposta_buscador = agente_buscador_vagas_de_emprego(profissao, area, senioridade, data_de_hoje)\n",
        "    print(\"\\n 📝 Essas foram as vagas encontradas! \\n\")\n",
        "    display(to_markdown(resposta_buscador))\n",
        "    print(\"--------------------------------------------------------------\")\n",
        "\n",
        "    print(\"\\n🔄 Processando resultados de planejamento...\")\n",
        "    resposta_planejador = agente_planejador_de_carreira(profissao, area, senioridade, resposta_buscador)\n",
        "    print(\"\\n 🚀 Algumas dicas para decolar em seu processo seletivo! 🚀 \\n\")\n",
        "    display(to_markdown(resposta_planejador))\n",
        "    print(\"--------------------------------------------------------------\")\n",
        "\n",
        "    return"
      ],
      "metadata": {
        "id": "CX4LJ5swPwTM"
      },
      "execution_count": 152,
      "outputs": []
    },
    {
      "cell_type": "code",
      "source": [
        "def main():\n",
        "  exibir_questionario = \"1\";\n",
        "\n",
        "  while exibir_questionario == \"1\" :\n",
        "    clear_output(wait=True)\n",
        "\n",
        "    print(\"\\n Olá, tudo bem por aí? 😊 Que bom te ter aqui!\")\n",
        "    print(\"\\n Sou seu assistente virtual focado , pronto para te dar uma mãozinha especial na busca daquela vaga de emprego e te deixar fera para as entrevistas! 🎉\")\n",
        "    print(\"\\n--------------------------------------------------------------\")\n",
        "\n",
        "    profissao = obter_input_obrigatorio(\"❓Me conta qual a profissão que te interessa encontrar vagas hoje? \", \"/n Hmm, para que eu te ajude a achar as melhores vagas, preciso que me conte qual profissão você busca, tá bem? 😉 \")\n",
        "    area = obter_input_obrigatorio(\"❓Legal! qual a área específica dentro dessa profissão você deseja atuar? (Por exemplo: UX, Gestão, Frontend, Backend) \" , \"É importante me informar qual área específica dentro dessa profissão deseja atuar!😊 \")\n",
        "    senioridade = obter_input_obrigatorio(\"❓E qual o seu nível de experiência? (Por exemplo: pleno, sênior, júnior, estágio...) \", \"Porfavor, digite seu nível de experiência para refinar a busca! 😊 \")\n",
        "\n",
        "    print(\"\\n🔄 Processando resultados...\")\n",
        "    exibir_resultados(profissao, area, senioridade)\n",
        "\n",
        "    print(\"Se deseja procurar outra vaga, digite 1: \\n\")\n",
        "    exibir_questionario = input(\"\")\n",
        "\n",
        "    if(exibir_questionario != '1'):\n",
        "      print(\"\\n Até a próxima! 😊\")\n",
        "      break;\n",
        "\n",
        "\n",
        "main()\n",
        "\n",
        ""
      ],
      "metadata": {
        "colab": {
          "base_uri": "https://localhost:8080/",
          "height": 1000
        },
        "id": "zmwil2QCHAJj",
        "outputId": "28afc21f-7cb8-4a02-8930-faa28e70847b"
      },
      "execution_count": 165,
      "outputs": [
        {
          "output_type": "stream",
          "name": "stdout",
          "text": [
            "\n",
            " Olá, tudo bem por aí? 😊 Que bom te ter aqui!\n",
            "\n",
            " Sou seu assistente virtual focado , pronto para te dar uma mãozinha especial na busca daquela vaga de emprego e te deixar fera para as entrevistas! 🎉\n",
            "\n",
            "--------------------------------------------------------------\n",
            "\n",
            "❓Me conta qual a profissão que te interessa encontrar vagas hoje?  design\n",
            "\n",
            "❓Legal! qual a área específica dentro dessa profissão você deseja atuar? (Por exemplo: UX, Gestão, Frontend, Backend)  ux\n",
            "\n",
            "❓E qual o seu nível de experiência? (Por exemplo: pleno, sênior, júnior, estágio...)  pleno\n",
            "\n",
            "🔄 Processando resultados...\n",
            "\n",
            "\n",
            " 📝 Essas foram as vagas encontradas! \n",
            "\n"
          ]
        },
        {
          "output_type": "display_data",
          "data": {
            "text/plain": [
              "<IPython.core.display.Markdown object>"
            ],
            "text/markdown": "> Ok, vamos procurar vagas de emprego para a área de UX Design para nível pleno.\n> \n> \n> Com certeza! Aqui estão algumas vagas de UX Design de nível pleno que encontrei:\n> \n> 1.  **UX Designer (Pleno/Sênior) na Leega Consultoria**\n> \n>     *   **Localização:** Remoto\n>     *   **Requisitos:** Mínimo de 4 anos de experiência na área; experiência no segmento financeiro (desejável); pensamento analítico, bom relacionamento interpessoal, criatividade, capacidade de trabalhar com metodologias ágeis, pós-graduação em UX, Design Research e conhecimento básico de Lógica e Linguagem de Programação.\n>     *   **Link:** [https://www.gupy.us/vertexaisearch.cloud.google.com/grounding-api-redirect/AbF9wXEcZdr0ri-IAGhISi8Mdc3dxlWjl1Ob\\_YHuCOH1KtpBZQqE-cI0Ee2OvgWzs\\_l\\_p1DUp5sGyN0Ftv8PliwrSlRIyy2ZkhJEUDnrx00WTAI7emyyH9yVUbQgqXKVHxwLpud0OY0NkhyJMOMnwQ0gW5GDzBSzbRq45\\_NLIQisY0qKAmbH\\_Ep4Sx3IkbcDa7towf\\_eUFyAVsUAZIcfT4I=](https://www.gupy.us/vertexaisearch.cloud.google.com/grounding-api-redirect/AbF9wXEcZdr0ri-IAGhISi8Mdc3dxlWjl1Ob_YHuCOH1KtpBZQqE-cI0Ee2OvgWzs_l_p1DUp5sGyN0Ftv8PliwrSlRIyy2ZkhJEUDnrx00WTAI7emyyH9yVUbQgqXKVHxwLpud0OY0NkhyJMOMnwQ0gW5GDzBSzbRq45_NLIQisY0qKAmbH_Ep4Sx3IkbcDa7towf_eUFyAVsUAZIcfT4I=)\n> 2.  **UX Designer - Pleno no Grupo Regazzo**\n> \n>     *   **Localização:** Remoto\n>     *   **Requisitos:** Mínimo de 3 anos de experiência comprovada como UX Designer; domínio de Figma; conhecimento em Design Centrado no Usuário; capacidade de transformar requisitos de negócio em soluções funcionais; excelente comunicação e facilidade para trabalhar com times multidisciplinares.\n>     *   **Link:** [https://www.recrutei.com.br/vaga/ux-designer-pleno-remoto](https://www.recrutei.com.br/vaga/ux-designer-pleno-remoto)\n> 3.  **Product UI/UX Designer Pleno na Trade Technology (SIVEE)**\n> \n>     *   **Localização:** 100% Remoto\n>     *   **Requisitos:** Experiência comprovada na criação, documentação e handoff de produtos digitais; sólida vivência como UI Designer ou UX/UI Designer; domínio da ferramenta Figma; experiência na documentação de estilos, padrões e comportamentos de interface; capacidade analítica e foco em melhoria contínua da experiência do usuário.\n>     *   **Link:** [https://www.gupy.us/vertexaisearch.cloud.google.com/grounding-api-redirect/AbF9wXGQZiNg6ZP2RNUjze8NqOi5OIR2j0Mu4ZzuUPwqusPKCNFN2B6TGA7ltzYPOuZKRdFq7Jx8N5WY-wi58Z7-ZZsd3yeN-baNlh\\_G76hEel4Qzo3lKj2soYqFHQHpIC5ENCEcAZI4IeQ1uVJXfh-SGEgDLuHlEMtWe6BOxIllgceb8vk46zN16G6K](https://www.gupy.us/vertexaisearch.cloud.google.com/grounding-api-redirect/AbF9wXGQZiNg6ZP2RNUjze8NqOi5OIR2j0Mu4ZzuUPwqusPKCNFN2B6TGA7ltzYPOuZKRdFq7Jx8N5WY-wi58Z7-ZZsd3yeN-baNlh_G76hEel4Qzo3lKj2soYqFHQHpIC5ENCEcAZI4IeQ1uVJXfh-SGEgDLuHlEMtWe6BOxIllgceb8vk46zN16G6K)\n> 4.  **Product Designer Pleno na Afya**\n> \n>     *   **Localização:** Híbrido (Rio de Janeiro, São Paulo ou Belo Horizonte)\n>     *   **Requisitos:** Conduzir pesquisas com usuários e stakeholders, desenvolver wireframes, protótipos e interfaces de alta fidelidade no Figma, estruturar fluxos de navegação e jornadas do usuário, aplicar princípios de UX Writing, acessibilidade e arquitetura da informação.\n>     *   **Link:** [https://www.gupy.us/vertexaisearch.cloud.google.com/grounding-api-redirect/AbF9wXHaI\\_0vK7lwFyGE7Mm9S8zgNifn8qxsQWE3EbXfafHGhzISOPtFkTkBfpYWhoui92dFJ87OF4qLwzF6Fb1aqciVxK0NOS8nD3TwYpLh9si5ZA6Se1p7k1iiF30LTSreEUXO7UjRTNmn-yNAWP\\_olxXDuMQNBOO3L2CgIN00](https://www.gupy.us/vertexaisearch.cloud.google.com/grounding-api-redirect/AbF9wXHaI_0vK7lwFyGE7Mm9S8zgNifn8qxsQWE3EbXfafHGhzISOPtFkTkBfpYWhoui92dFJ87OF4qLwzF6Fb1aqciVxK0NOS8nD3TwYpLh9si5ZA6Se1p7k1iiF30LTSreEUXO7UjRTNmn-yNAWP_olxXDuMQNBOO3L2CgIN00)\n> \n> Espero que estas opções sejam úteis!\n"
          },
          "metadata": {}
        },
        {
          "output_type": "stream",
          "name": "stdout",
          "text": [
            "--------------------------------------------------------------\n",
            "\n",
            "🔄 Processando resultados de planejamento...\n",
            "\n",
            " 🚀 Algumas dicas para decolar em seu processo seletivo! 🚀 \n",
            "\n"
          ]
        },
        {
          "output_type": "display_data",
          "data": {
            "text/plain": [
              "<IPython.core.display.Markdown object>"
            ],
            "text/markdown": "> Com certeza! Fico feliz em te ajudar a se destacar nos processos seletivos para as vagas de UX Design de nível pleno.\n> \n> **1. Habilidades e experiências a enfatizar:**\n> \n> *   **Experiência prática:** Demonstre experiência sólida em projetos de UX, desde a pesquisa inicial até a implementação e testes. Destaque sua participação em todas as etapas do processo de design.\n> *   **Domínio de ferramentas:** Certifique-se de ter domínio de ferramentas como Figma, Sketch e Adobe XD. Mencione sua familiaridade com outras ferramentas relevantes para o design de UX.\n> *   **Design Centrado no Usuário:** Mostre seu conhecimento e experiência em aplicar os princípios do Design Centrado no Usuário para criar soluções que atendam às necessidades dos usuários.\n> *   **Resolução de problemas:** Enfatize sua capacidade de transformar requisitos de negócio em soluções funcionais e intuitivas.\n> *   **Colaboração:** Destaque sua capacidade de trabalhar em equipe e colaborar com times multidisciplinares.\n> *   **Habilidades de comunicação:** A comunicação clara e eficaz é fundamental para um UX Designer. Demonstre suas habilidades de comunicação ao explicar suas decisões de design e apresentar suas ideias.\n> *   **Conhecimento técnico:** Ter conhecimento básico de HTML, CSS e JavaScript pode ser um diferencial. Isso demonstra sua capacidade de entender as limitações e possibilidades técnicas do desenvolvimento web.\n> \n> **2. Dicas de organização para se candidatar:**\n> \n> *   **Adapte seu currículo:** Ajuste seu currículo para cada vaga, destacando as habilidades e experiências mais relevantes para a posição. Use palavras-chave presentes na descrição da vaga.\n> *   **Pesquise a empresa:** Antes da entrevista, pesquise a empresa, seus produtos e serviços. Entenda a cultura da empresa e como suas habilidades podem contribuir para o sucesso da organização.\n> \n> **3. Dicas gerais para se destacar no mercado de trabalho de UX Design:**\n> \n> *   **Mantenha-se atualizado:** A área de UX Design está em constante evolução. Acompanhe as tendências do mercado, participe de cursos e workshops e leia artigos e livros sobre o assunto.\n> *   **Construa um portfólio sólido:** Um portfólio online é essencial para mostrar seus projetos e habilidades. Inclua projetos que demonstrem sua capacidade de resolver problemas de design e criar experiências de usuário agradáveis.\n> *   **Networking:** Participe de eventos e grupos de discussão sobre UX Design. Conecte-se com outros profissionais da área para trocar ideias e oportunidades.\n> *   **Desenvolva suas habilidades de UX Writing:** A habilidade de escrever textos claros, concisos e informativos é cada vez mais valorizada em UX Design. Pratique a escrita de microtextos, mensagens de erro e outros elementos textuais da interface.\n> *   **Acessibilidade:** Demonstre conhecimento e preocupação com a acessibilidade em seus projetos. Certifique-se de que suas soluções de design sejam inclusivas e atendam às necessidades de todos os usuários.\n> \n> Espero que estas dicas te ajudem a se preparar e se destacar nos processos seletivos! Se tiver mais alguma dúvida, é só perguntar.\n> \n"
          },
          "metadata": {}
        },
        {
          "output_type": "stream",
          "name": "stdout",
          "text": [
            "--------------------------------------------------------------\n",
            "Se deseja procurar outra vaga, digite 1: \n",
            "\n",
            "0\n",
            "\n",
            " Até a próxima! 😊\n"
          ]
        }
      ]
    },
    {
      "cell_type": "markdown",
      "source": [],
      "metadata": {
        "id": "HYQMqru3Jpdh"
      }
    }
  ]
}