{
  "nbformat": 4,
  "nbformat_minor": 0,
  "metadata": {
    "colab": {
      "provenance": [],
      "authorship_tag": "ABX9TyP3gH05SgU4I1W8cwW4U3Uf",
      "include_colab_link": true
    },
    "kernelspec": {
      "name": "python3",
      "display_name": "Python 3"
    },
    "language_info": {
      "name": "python"
    }
  },
  "cells": [
    {
      "cell_type": "markdown",
      "metadata": {
        "id": "view-in-github",
        "colab_type": "text"
      },
      "source": [
        "<a href=\"https://colab.research.google.com/github/FabiolaAJ/chatbot-assistente-de-vagas/blob/main/Chatbot_Assistente_de_Vagas_de_emprego.ipynb\" target=\"_parent\"><img src=\"https://colab.research.google.com/assets/colab-badge.svg\" alt=\"Open In Colab\"/></a>"
      ]
    },
    {
      "cell_type": "code",
      "source": [
        "%pip -q install google-genai"
      ],
      "metadata": {
        "id": "t5ZGe_I5hort"
      },
      "execution_count": null,
      "outputs": []
    },
    {
      "cell_type": "code",
      "source": [
        "!pip install -q google-adk"
      ],
      "metadata": {
        "id": "VOjPCyyIh8W3"
      },
      "execution_count": null,
      "outputs": []
    },
    {
      "cell_type": "code",
      "source": [
        "import os\n",
        "from google.colab import userdata\n",
        "from google.adk.agents import Agent\n",
        "from google.adk.runners import Runner\n",
        "from google.adk.sessions import InMemorySessionService\n",
        "from google.adk.tools import google_search\n",
        "from google.genai import types  # Para criar conteúdos (Content e Part)\n",
        "from datetime import date\n",
        "import textwrap # Para formatar melhor a saída de texto\n",
        "from IPython.display import display, Markdown # Para exibir texto formatado no Colab\n",
        "import requests # Para fazer requisições HTTP\n",
        "import warnings\n",
        "from IPython.display import clear_output\n",
        "\n",
        "os.environ['GOOGLE_API_KEY'] = userdata.get('GOOGLE_API_KEY')\n",
        "\n",
        "warnings.filterwarnings(\"ignore\")\n",
        "\n",
        "# Função auxiliar que envia uma mensagem para um agente via Runner e retorna a resposta final\n",
        "def call_agent(agent: Agent, message_text: str) -> str:\n",
        "    # Cria um serviço de sessão em memória\n",
        "    session_service = InMemorySessionService()\n",
        "    # Cria uma nova sessão (você pode personalizar os IDs conforme necessário)\n",
        "    session = session_service.create_session(app_name=agent.name, user_id=\"user1\", session_id=\"session1\")\n",
        "    # Cria um Runner para o agente\n",
        "    runner = Runner(agent=agent, app_name=agent.name, session_service=session_service)\n",
        "    # Cria o conteúdo da mensagem de entrada\n",
        "    content = types.Content(role=\"user\", parts=[types.Part(text=message_text)])\n",
        "\n",
        "    final_response = \"\"\n",
        "    # Itera assincronamente pelos eventos retornados durante a execução do agente\n",
        "    for event in runner.run(user_id=\"user1\", session_id=\"session1\", new_message=content):\n",
        "        if event.is_final_response():\n",
        "          for part in event.content.parts:\n",
        "            if part.text is not None:\n",
        "              final_response += part.text\n",
        "              final_response += \"\\n\"\n",
        "    return final_response\n",
        "\n",
        "# Função auxiliar para exibir texto formatado em Markdown no Colab\n",
        "def to_markdown(text):\n",
        "  text = text.replace('•', '  *')\n",
        "  return Markdown(textwrap.indent(text, '> ', predicate=lambda _: True))"
      ],
      "metadata": {
        "id": "fRqjscaps1PR"
      },
      "execution_count": null,
      "outputs": []
    },
    {
      "cell_type": "code",
      "source": [
        "##########################################\n",
        "# --- Agente 1: Buscador de Vagas --- #\n",
        "##########################################\n",
        "def agente_buscador_vagas_de_emprego(profissao, area, senioridade, data_de_hoje):\n",
        "\n",
        "    buscador = Agent(\n",
        "        name=\"agente_buscador_de_vagas\",\n",
        "        model=\"gemini-2.0-flash\",\n",
        "        instruction=\"\"\"\n",
        "        Você é um assistente simpático especializado na busca de vagas de emprego.\n",
        "        Use a ferramenta de busca do google (google_search) para encontrar até 5 vagas relevantes e atuais para a profissão e senioridade do usuário.\n",
        "\n",
        "          1. **Interpretação:** Analise profissão e senioridade. Se a senioridade faltar, pergunte.\n",
        "          2. **Busca (google_search):** Combine profissão, área, senioridade e informe se a vaga é hibrida, presencial ou remoto. Foque em resultados que provavelmente contenham links diretos para a página da vaga.\n",
        "          3. **Filtragem:** Priorize vagas recentes verificando a data de hoje (data_de_hoje). Descarte vagas antigas ou encerradas.\n",
        "          4. **Resposta (máximo 5 vagas):** Para cada vaga, retorne título, empresa, localização (se disponível), breve descrição com requisitos para vaga, não faça questionamentos adicionais para o usuário.\n",
        "          5. **Link:** [**Link direto para a página da vaga**. Este é um campo obrigatório. Tente ao máximo encontrar o link nos resultados da busca.]\n",
        "          6. **Sem Resultados:** Se não houver vagas relevantes e atuais, informe o usuário.\n",
        "\n",
        "          Priorize informações precisas e atuais.\n",
        "\n",
        "        \"\"\",\n",
        "        description=\"Agente que busca informações de vagas de empregos no Google\",\n",
        "        tools=[google_search]\n",
        "    )\n",
        "\n",
        "    entrada_do_agente_buscador = f\"Profissão: {profissao} \\n Area:{area} \\n Senioridade:{senioridade} \\n Data de hoje: {data_de_hoje}\"\n",
        "\n",
        "    lancamentos = call_agent(buscador, entrada_do_agente_buscador)\n",
        "    return lancamentos"
      ],
      "metadata": {
        "id": "hvRnO_H528q1"
      },
      "execution_count": null,
      "outputs": []
    },
    {
      "cell_type": "code",
      "source": [
        "################################################\n",
        "# --- Agente 2: Planejador de carreira e recrutamento --- #\n",
        "################################################\n",
        "def agente_planejador_de_carreira(profissao, area, senioridade, lancamentos_buscados):\n",
        "    planejador = Agent(\n",
        "        name=\"agente_planejador\",\n",
        "        model=\"gemini-2.0-flash\",\n",
        "        # Inserir as instruções do Agente Planejador #################################################\n",
        "        instruction=\"\"\"\n",
        "        Você é um especialista em carreira e recrutamento muito gentil e simpático, com vasta experiência em ajudar candidatos a se prepararem para processos seletivos.\n",
        "        Gere dicas para se destacar, considerando os seguintes tópicos:\n",
        "             1. Quais habilidades e experiências o candidato deve enfatizar?\n",
        "             2. Forneça até 2 dicas concisas sobre como o usuário pode se organizar para se candidatar as vagas (ex: adaptar currículo, pesquisar a empresa).\n",
        "             3. Ao final cite dicas gerais de como se destacar no mercado de trabalho de acordo com a profissão do usuário\n",
        "        \"\"\",\n",
        "        description=\"Agente planejador especialista em carreira\",\n",
        "        tools=[google_search]\n",
        "    )\n",
        "\n",
        "    entrada_do_agente_planejador = f\"Profissão: {profissao} \\n Area:{area}  \\n Senioridade:{senioridade} \\n Buscados: {lancamentos_buscados}\"\n",
        "\n",
        "    # Executa o agente\n",
        "    lancamento_planejamento = call_agent(planejador, entrada_do_agente_planejador)\n",
        "    return lancamento_planejamento"
      ],
      "metadata": {
        "id": "4VEEZtq3Ctv4"
      },
      "execution_count": null,
      "outputs": []
    },
    {
      "cell_type": "code",
      "source": [
        "def agente_responder_duvidas(profissao, area, senioridade, duvida, lancamentos_buscados, lancamento_planejamento):\n",
        "\n",
        "    buscador = Agent(\n",
        "        name=\"agente_buscador_de_vagas\",\n",
        "        model=\"gemini-2.0-flash\",\n",
        "        instruction=\"\"\"\n",
        "        Você é um assistente de carreira e você sempre responde de forma gentil e de facil entendimento.\n",
        "        Use a ferramenta de busca do google (google_search) para tirar a dúvida do usuário sobre sua carreira, responda de forma resumida.\n",
        "        \"\"\",\n",
        "        description=\"Agente para tirar dúvidas de carreira\",\n",
        "        tools=[google_search]\n",
        "    )\n",
        "\n",
        "    entrada_do_agente_responder_duvidas = f\"Dúvida: {duvida}\\n Profissao:{profissao} \\n Area:{area} \\n Senioridade:{senioridade} \\n Buscados: {lancamentos_buscados} \\n Planejador: {lancamento_planejamento}\"\n",
        "\n",
        "    lancamentos = call_agent(buscador, entrada_do_agente_responder_duvidas)\n",
        "    return lancamentos"
      ],
      "metadata": {
        "id": "TVw0-W68k8MR"
      },
      "execution_count": 20,
      "outputs": []
    },
    {
      "cell_type": "code",
      "source": [
        "def obter_input_obrigatorio(mensagem_inicial, mensagem_erro):\n",
        "    # Exibe a mensagem inicial para o usuário, solicitando a entrada.\n",
        "    valor = input(f\"\\n{mensagem_inicial} \")\n",
        "\n",
        "    # Inicia um loop 'while' que continuará executando enquanto a condição for verdadeira.\n",
        "    # A condição 'not valor.strip()' verifica se a variável 'valor' está vazia ou contém apenas espaços em branco.\n",
        "    # 'valor.strip()' remove os espaços em branco do início e do final da string.\n",
        "    # Se após a remoção dos espaços, a string estiver vazia, a condição será 'True' e o loop continuará.\n",
        "    while not valor.strip():\n",
        "        # Exibe a mensagem de erro informando ao usuário que a entrada é obrigatória.\n",
        "        print(f\"{mensagem_erro}\")\n",
        "\n",
        "        # Solicita novamente a entrada do usuário, exibindo a mensagem inicial novamente.\n",
        "        valor = input(f\"\\n{mensagem_inicial}\")\n",
        "\n",
        "    # Quando o loop 'while' terminar (ou seja, o usuário digitou algo que não é apenas espaço),\n",
        "    # a função retorna o valor digitado, com quaisquer espaços em branco iniciais e finais removidos\n",
        "    # usando o método 'strip()'.\n",
        "    return valor.strip()"
      ],
      "metadata": {
        "id": "AqfR89jBRIG8"
      },
      "execution_count": null,
      "outputs": []
    },
    {
      "cell_type": "code",
      "source": [
        "def tirar_duvidas(profissao, area, senioridade, resposta_buscador, resposta_planejador):\n",
        "    questionario = \"S\"\n",
        "\n",
        "    while questionario.upper() == \"S\" :\n",
        "      print(\"\\n Ficou com alguma dúvida? Pode contar comigo!😉 (caso não tenha dúvidas digite 'N') \\n\")\n",
        "      duvida = input(\"\")\n",
        "      if(duvida.upper() == 'N'):\n",
        "        break;\n",
        "      else:\n",
        "        print(\"\\n🔄 Processando resposta...\")\n",
        "        resposta_duvida = agente_responder_duvidas(profissao, area, senioridade, duvida, resposta_buscador, resposta_planejador)\n",
        "        display(to_markdown(resposta_duvida))\n",
        "\n",
        "        print(\"\\n Se deseja tirar outra dúvida digite 'S'(caso não tenha, digite qualquer tecla): \\n\")\n",
        "        questionario = input(\"\")\n",
        "\n",
        "        if(questionario.upper() != \"S\"):\n",
        "          break;\n"
      ],
      "metadata": {
        "id": "qF6L3T9mmUGN"
      },
      "execution_count": null,
      "outputs": []
    },
    {
      "cell_type": "code",
      "source": [
        "def exibir_resultados(profissao, area, senioridade):\n",
        "    print(f\"\")\n",
        "\n",
        "    data_de_hoje = date.today().strftime(\"%d/%m/%Y\")\n",
        "\n",
        "    resposta_buscador = agente_buscador_vagas_de_emprego(profissao, area, senioridade, data_de_hoje)\n",
        "    print(\"\\n 📝 Essas foram as vagas encontradas! \\n\")\n",
        "    display(to_markdown(resposta_buscador))\n",
        "    print(\"--------------------------------------------------------------\")\n",
        "\n",
        "    print(\"\\n🔄 Processando resultados de planejamento...\")\n",
        "    resposta_planejador = agente_planejador_de_carreira(profissao, area, senioridade, resposta_buscador)\n",
        "    print(\"\\n 🚀 Algumas dicas para decolar em seu processo seletivo! 🚀 \\n\")\n",
        "    display(to_markdown(resposta_planejador))\n",
        "    print(\"--------------------------------------------------------------\")\n",
        "\n",
        "    tirar_duvidas(profissao, area, senioridade, resposta_buscador, resposta_planejador)\n",
        "\n",
        "    return"
      ],
      "metadata": {
        "id": "CX4LJ5swPwTM"
      },
      "execution_count": null,
      "outputs": []
    },
    {
      "cell_type": "code",
      "source": [
        "def main():\n",
        "  exibir_questionario = \"1\";\n",
        "\n",
        "  while exibir_questionario == \"1\" :\n",
        "    clear_output(wait=True)\n",
        "\n",
        "    print(\"\\n Olá, tudo bem por aí? 😊 Que bom te ter aqui!\")\n",
        "    print(\"\\n Sou seu assistente virtual de carreira, pronto para te dar uma mãozinha especial na busca daquela vaga de emprego e te preparar para o sucesso nas entrevistas! 🎉\")\n",
        "    print(\"\\n--------------------------------------------------------------\")\n",
        "\n",
        "    profissao = obter_input_obrigatorio(\"❓Me conta qual a profissão que te interessa encontrar vagas hoje? \", \"/n Hmm, para que eu te ajude a achar as melhores vagas, preciso que me conte qual profissão você busca, tá bem? 😉 \")\n",
        "    area = obter_input_obrigatorio(\"❓Legal! qual a área específica dentro dessa profissão você deseja atuar? (Por exemplo: UX, Gestão, Frontend, Backend) \" , \"É importante me informar qual área específica dentro dessa profissão deseja atuar!😊 \")\n",
        "    senioridade = obter_input_obrigatorio(\"❓E qual o seu nível de experiência? (Por exemplo: pleno, sênior, júnior, estágio...) \", \"Porfavor, digite seu nível de experiência para refinar a busca! 😊 \")\n",
        "\n",
        "    print(\"\\n🔄 Processando resultados...\")\n",
        "    exibir_resultados(profissao, area, senioridade)\n",
        "\n",
        "    print(\"\\n Se deseja procurar outra vaga, digite 1 (para encerrar digite qualquer tecla): \\n\")\n",
        "\n",
        "    exibir_questionario = input(\"\")\n",
        "\n",
        "    if(exibir_questionario != '1'):\n",
        "      print(\"\\n Até a próxima! 😊\")\n",
        "      break;\n",
        "\n",
        "\n",
        "main()\n",
        "\n"
      ],
      "metadata": {
        "colab": {
          "base_uri": "https://localhost:8080/",
          "height": 1000
        },
        "id": "zmwil2QCHAJj",
        "outputId": "24e85b1b-d891-4293-830a-31fb9e101735"
      },
      "execution_count": 23,
      "outputs": [
        {
          "output_type": "stream",
          "name": "stdout",
          "text": [
            "\n",
            " Olá, tudo bem por aí? 😊 Que bom te ter aqui!\n",
            "\n",
            " Sou seu assistente virtual de carreira, pronto para te dar uma mãozinha especial na busca daquela vaga de emprego e te preparar para o sucesso nas entrevistas! 🎉\n",
            "\n",
            "--------------------------------------------------------------\n",
            "\n",
            "❓Me conta qual a profissão que te interessa encontrar vagas hoje?  Programador\n",
            "\n",
            "❓Legal! qual a área específica dentro dessa profissão você deseja atuar? (Por exemplo: UX, Gestão, Frontend, Backend)  Fullstack\n",
            "\n",
            "❓E qual o seu nível de experiência? (Por exemplo: pleno, sênior, júnior, estágio...)  Júnior\n",
            "\n",
            "🔄 Processando resultados...\n",
            "\n",
            "\n",
            " 📝 Essas foram as vagas encontradas! \n",
            "\n"
          ]
        },
        {
          "output_type": "display_data",
          "data": {
            "text/plain": [
              "<IPython.core.display.Markdown object>"
            ],
            "text/markdown": "> Com base nas buscas realizadas, encontrei algumas vagas que correspondem ao seu perfil. Aqui estão algumas opções:\n> \n> 1.  **Desenvolvedor Full-Stack Júnior - PHP+React**\n> \n>     *   **Empresa:** SENAI/SC - Soluções Digitais\n>     *   **Localização:** Teletrabalho\n>     *   **Descrição:** Atuar no desenvolvimento e manutenção de sistemas web voltados para a área educacional, utilizando PHP (Symfony) no backend e React no frontend. Requisitos incluem ensino médio completo com graduação em andamento ou técnico em áreas de TI, e 6 meses de experiência em desenvolvimento de softwares, análise e manutenção de dados em banco de dados, bibliotecas de front-end, ferramentas de versionamento, PHP com Framework Symfony, Testes automatizados com PHPUnit, React com componentização e estilização com Tailwind e/ou Styled Components.\n>     *   **Link:** [Link para a vaga](https://www.infojobs.com.br/vaga-de-01245-2025-desenvolvedor-full-stack-junior-php-react-em-todo-brasil__6359685.aspx)\n> 2.  **Desenvolvedor Full Stack Junior**\n> \n>     *   **Empresa:** Grupo Roma Brasil\n>     *   **Local de trabalho:** Belo Horizonte - MG\n>     *   **Modelo de trabalho:** Presencial\n>     *   **Descrição:** Documentar as etapas de desenvolvimento, executar e documentar testes de alta complexidade, e desenvolver e manter softwares de acordo com as especificações. Requisitos incluem ensino superior completo ou cursando em Ciências da Computação ou Sistemas de Informação, experiência em desenvolvimento de Software sob medida, conhecimentos sólidos em OOP, MVC e Integrações Rest, conhecimentos sólidos na plataforma Microsoft Azure, e domínio de linguagens de programação (Frameworks, PHP, MYSQL, SQL Server, Laravel, API).\n>     *   **Link:** [Link para a vaga](https://www.gupy.us/offers/2598148?utm_campaign=google_jobs&utm_source=google_jobs&utm_medium=organic)\n> 3.  **Desenvolvedor(a) Júnior**\n> \n>     *   **Empresa:** Escritório Inteligente\n>     *   **Localização:** Jundiaí, São Paulo, Brasil\n>     *   **Descrição:** Vaga para Desenvolvedor(a) Júnior.\n>     *   **Link:** Ver vaga no LinkedIn.\n> 4.  **Desenvolvedor Fullstack JR**\n> \n>     *   **Empresa:** HUB Floripa Participações LTDA\n>     *   **Localização:** Florianópolis, SC\n>     *   **Descrição:** O Hub de tecnologia e inovação está construindo um time de alta performance e busca um Desenvolvedor Fullstack JR.\n>     *   **Link:** Não foi possivel encontrar o link direto para a vaga.\n> 5.  **Programador Full Stack Junior [BH]**\n> \n>     *   **Empresa:** Teknisa\n>     *   **Local de trabalho:** Belo Horizonte - MG\n>     *   **Modelo de trabalho:** Híbrido\n>     *   **Descrição:** Participar de todas as etapas de um processo de desenvolvimento de software, desde a concepção até a implementação e manutenção, compartilhar conhecimentos com a equipe, considerar escalabilidade, performance e qualidade de código, sugerir melhorias no processo de desenvolvimento e buscar aperfeiçoamento tecnológico.\n>     *   **Link:** [Link para a vaga](https://www.gupy.us/offers/2519243?utm_campaign=google_jobs&utm_source=google_jobs&utm_medium=organic)\n> \n"
          },
          "metadata": {}
        },
        {
          "output_type": "stream",
          "name": "stdout",
          "text": [
            "--------------------------------------------------------------\n",
            "\n",
            "🔄 Processando resultados de planejamento...\n",
            "\n",
            " 🚀 Algumas dicas para decolar em seu processo seletivo! 🚀 \n",
            "\n"
          ]
        },
        {
          "output_type": "display_data",
          "data": {
            "text/plain": [
              "<IPython.core.display.Markdown object>"
            ],
            "text/markdown": "> Olá! Com prazer, vou te ajudar a se destacar nessas oportunidades de Fullstack Júnior.\n> \n> **1. Habilidades e Experiências a Enfatizar:**\n> \n> *   **Domínio do Stack:** Destaque seu conhecimento em linguagens como PHP e frameworks como Symfony (mencionado na vaga 1), além de React para o frontend. Se você tiver experiência com outras tecnologias comuns em fullstack, como Node.js, Python ou Angular, também vale a pena mencionar.\n> *   **Banco de Dados:** Mencione sua experiência com bancos de dados relacionais (MySQL, SQL Server) e, se tiver, NoSQL.\n> *   **Metodologias Ágeis:** Experiência com metodologias ágeis (Scrum, Kanban) é um diferencial, pois muitas empresas as utilizam.\n> *   **Soft Skills:** Habilidades como trabalho em equipe, comunicação e resolução de problemas são cruciais. Demonstre como você colaborou em projetos e lidou com desafios.\n> *   **Cloud:** Se tiver experiência com plataformas como Microsoft Azure (vaga 2) ou AWS, mencione isso.\n> \n> **2. Dicas de Organização para Candidaturas:**\n> \n> *   **Adapte seu currículo:** Para cada vaga, revise seu currículo e destaque as habilidades e experiências mais relevantes para aquela posição específica. Use palavras-chave presentes na descrição da vaga.\n> *   **Pesquise a empresa:** Antes da entrevista, pesquise a fundo a empresa. Entenda seus produtos, serviços, cultura e desafios. Isso demonstra interesse e te ajuda a formular perguntas relevantes.\n> \n> **3. Dicas Gerais para se Destacar no Mercado de Trabalho como Programador Fullstack:**\n> \n> *   **Mantenha-se atualizado:** A área de tecnologia está em constante evolução. Invista em cursos, workshops e leitura de artigos para se manter atualizado com as últimas tendências e tecnologias.\n> *   **Crie um portfólio:** Desenvolva projetos pessoais e contribua para projetos open source. Isso demonstra suas habilidades de forma prática e impressiona recrutadores.\n> *   **Networking:** Participe de eventos da área, grupos de discussão online e conecte-se com outros profissionais no LinkedIn. O networking pode abrir portas para oportunidades de emprego e parcerias.\n> *   **Inglês:** A fluência em inglês é fundamental, pois muitos materiais de estudo, documentações e empresas são internacionais.\n> \n> Espero que estas dicas te ajudem a brilhar no processo seletivo e a conquistar a vaga dos seus sonhos!\n"
          },
          "metadata": {}
        },
        {
          "output_type": "stream",
          "name": "stdout",
          "text": [
            "--------------------------------------------------------------\n",
            "\n",
            " Ficou com alguma dúvida? Pode contar comigo!😉 (caso não tenha dúvidas digite 'N') \n",
            "\n",
            "Como me destacar no mercado?\n",
            "\n",
            "🔄 Processando resposta...\n"
          ]
        },
        {
          "output_type": "display_data",
          "data": {
            "text/plain": [
              "<IPython.core.display.Markdown object>"
            ],
            "text/markdown": "> Para se destacar no mercado como programador Fullstack Júnior, foque em aprimorar e demonstrar suas habilidades técnicas, como o domínio de PHP, React e bancos de dados. Adapte seu currículo para cada vaga, destacando as habilidades mais relevantes e utilizando palavras-chave presentes na descrição da vaga. Além disso, mantenha-se atualizado com as últimas tendências tecnológicas, construa um portfólio com projetos pessoais e invista em networking para ampliar suas oportunidades.\n"
          },
          "metadata": {}
        },
        {
          "output_type": "stream",
          "name": "stdout",
          "text": [
            "\n",
            " Se deseja tirar outra dúvida digite 'S'(caso não tenha, digite qualquer tecla): \n",
            "\n",
            "N\n",
            "\n",
            " Se deseja procurar outra vaga, digite 1 (para encerrar digite qualquer tecla): \n",
            "\n",
            "0\n",
            "\n",
            " Até a próxima! 😊\n"
          ]
        }
      ]
    },
    {
      "cell_type": "markdown",
      "source": [],
      "metadata": {
        "id": "HYQMqru3Jpdh"
      }
    }
  ]
}