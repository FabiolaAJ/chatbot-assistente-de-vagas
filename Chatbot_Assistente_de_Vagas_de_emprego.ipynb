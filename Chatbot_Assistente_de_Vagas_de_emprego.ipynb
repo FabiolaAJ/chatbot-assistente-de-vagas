{
  "nbformat": 4,
  "nbformat_minor": 0,
  "metadata": {
    "colab": {
      "provenance": [],
      "authorship_tag": "ABX9TyOOKkQ+ZrILrHRYLjQ6vK77",
      "include_colab_link": true
    },
    "kernelspec": {
      "name": "python3",
      "display_name": "Python 3"
    },
    "language_info": {
      "name": "python"
    }
  },
  "cells": [
    {
      "cell_type": "markdown",
      "metadata": {
        "id": "view-in-github",
        "colab_type": "text"
      },
      "source": [
        "<a href=\"https://colab.research.google.com/github/FabiolaAJ/chatbot-assistente-de-vagas/blob/main/Chatbot_Assistente_de_Vagas_de_emprego.ipynb\" target=\"_parent\"><img src=\"https://colab.research.google.com/assets/colab-badge.svg\" alt=\"Open In Colab\"/></a>"
      ]
    },
    {
      "cell_type": "code",
      "source": [
        "import os\n",
        "from google.colab import userdata\n",
        "from google.adk.agents import Agent\n",
        "from google.adk.runners import Runner\n",
        "from google.adk.sessions import InMemorySessionService\n",
        "from google.adk.tools import google_search\n",
        "from google.genai import types  # Para criar conteúdos (Content e Part)\n",
        "from datetime import date\n",
        "import textwrap # Para formatar melhor a saída de texto\n",
        "from IPython.display import display, Markdown # Para exibir texto formatado no Colab\n",
        "import requests # Para fazer requisições HTTP\n",
        "import warnings\n",
        "from IPython.display import clear_output\n",
        "\n",
        "os.environ['GOOGLE_API_KEY'] = userdata.get('GOOGLE_API_KEY')\n",
        "\n",
        "warnings.filterwarnings(\"ignore\")\n",
        "\n",
        "# Função auxiliar que envia uma mensagem para um agente via Runner e retorna a resposta final\n",
        "def call_agent(agent: Agent, message_text: str) -> str:\n",
        "    # Cria um serviço de sessão em memória\n",
        "    session_service = InMemorySessionService()\n",
        "    # Cria uma nova sessão (você pode personalizar os IDs conforme necessário)\n",
        "    session = session_service.create_session(app_name=agent.name, user_id=\"user1\", session_id=\"session1\")\n",
        "    # Cria um Runner para o agente\n",
        "    runner = Runner(agent=agent, app_name=agent.name, session_service=session_service)\n",
        "    # Cria o conteúdo da mensagem de entrada\n",
        "    content = types.Content(role=\"user\", parts=[types.Part(text=message_text)])\n",
        "\n",
        "    final_response = \"\"\n",
        "    # Itera assincronamente pelos eventos retornados durante a execução do agente\n",
        "    for event in runner.run(user_id=\"user1\", session_id=\"session1\", new_message=content):\n",
        "        if event.is_final_response():\n",
        "          for part in event.content.parts:\n",
        "            if part.text is not None:\n",
        "              final_response += part.text\n",
        "              final_response += \"\\n\"\n",
        "    return final_response\n",
        "\n",
        "# Função auxiliar para exibir texto formatado em Markdown no Colab\n",
        "def to_markdown(text):\n",
        "  text = text.replace('•', '  *')\n",
        "  return Markdown(textwrap.indent(text, '> ', predicate=lambda _: True))"
      ],
      "metadata": {
        "id": "fRqjscaps1PR"
      },
      "execution_count": 143,
      "outputs": []
    },
    {
      "cell_type": "code",
      "source": [
        "##########################################\n",
        "# --- Agente 1: Buscador de Vagas --- #\n",
        "##########################################\n",
        "def agente_buscador_vagas_de_emprego(profissao, area, senioridade, data_de_hoje):\n",
        "\n",
        "    buscador = Agent(\n",
        "        name=\"agente_buscador_de_vagas\",\n",
        "        model=\"gemini-2.0-flash\",\n",
        "        instruction=\"\"\"\n",
        "        Você é um assistente simpático especializado na busca de vagas de emprego.\n",
        "        Use a ferramenta de busca do google (google_search) para encontrar até 5 vagas relevantes e atuais para a profissão e senioridade do usuário.\n",
        "\n",
        "          1. **Interpretação:** Analise profissão e senioridade. Se a senioridade faltar, pergunte.\n",
        "          2. **Busca (google_search):** Combine profissão, área, senioridade e informe se a vaga é hibrida, presencial ou remoto. Foque em resultados que provavelmente contenham links diretos para a página da vaga.\n",
        "          3. **Filtragem:** Priorize vagas recentes verificando a data de hoje (data_de_hoje). Descarte vagas antigas ou encerradas.\n",
        "          4. **Resposta (máximo 5 vagas):** Para cada vaga, retorne título, empresa, localização (se disponível), breve descrição com requisitos para vaga, não faça questionamentos adicionais para o usuário.\n",
        "          5. **Link:** [**Link direto para a página da vaga**. Este é um campo obrigatório. Tente ao máximo encontrar o link nos resultados da busca.]\n",
        "          6. **Sem Resultados:** Se não houver vagas relevantes e atuais, informe o usuário.\n",
        "\n",
        "          Priorize informações precisas e atuais.\n",
        "\n",
        "        \"\"\",\n",
        "        description=\"Agente que busca informações de vagas de empregos no Google\",\n",
        "        tools=[google_search]\n",
        "    )\n",
        "\n",
        "    entrada_do_agente_buscador = f\"Profissão: {profissao} \\n Area:{area} \\n Senioridade:{senioridade} \\n Data de hoje: {data_de_hoje}\"\n",
        "\n",
        "    lancamentos = call_agent(buscador, entrada_do_agente_buscador)\n",
        "    return lancamentos"
      ],
      "metadata": {
        "id": "hvRnO_H528q1"
      },
      "execution_count": 162,
      "outputs": []
    },
    {
      "cell_type": "code",
      "source": [
        "################################################\n",
        "# --- Agente 2: Planejador de carreira e recrutamento --- #\n",
        "################################################\n",
        "def agente_planejador_de_carreira(profissao, area, senioridade, lancamentos_buscados):\n",
        "    planejador = Agent(\n",
        "        name=\"agente_planejador\",\n",
        "        model=\"gemini-2.0-flash\",\n",
        "        # Inserir as instruções do Agente Planejador #################################################\n",
        "        instruction=\"\"\"\n",
        "        Você é um especialista em carreira e recrutamento muito gentil e simpático, com vasta experiência em ajudar candidatos a se prepararem para processos seletivos.\n",
        "        Gere dicas para se destacar, considerando os seguintes tópicos:\n",
        "             1. Quais habilidades e experiências o candidato deve enfatizar?\n",
        "             2. Forneça até 2 dicas concisas sobre como o usuário pode se organizar para se candidatar as vagas (ex: adaptar currículo, pesquisar a empresa).\n",
        "             3. Ao final cite dicas gerais de como se destacar no mercado de trabalho de acordo com a profissão do usuário\n",
        "        \"\"\",\n",
        "        description=\"Agente planejador especialista em carreira\",\n",
        "        tools=[google_search]\n",
        "    )\n",
        "\n",
        "    entrada_do_agente_planejador = f\"Profissão: {profissao} \\n Area:{area}  \\n Senioridade:{senioridade} \\n Buscados: {lancamentos_buscados}\"\n",
        "\n",
        "    # Executa o agente\n",
        "    plano_do_post = call_agent(planejador, entrada_do_agente_planejador)\n",
        "    return plano_do_post"
      ],
      "metadata": {
        "id": "4VEEZtq3Ctv4"
      },
      "execution_count": 145,
      "outputs": []
    },
    {
      "cell_type": "code",
      "source": [
        "def obter_input_obrigatorio(mensagem_inicial, mensagem_erro):\n",
        "    # Exibe a mensagem inicial para o usuário, solicitando a entrada.\n",
        "    valor = input(f\"\\n{mensagem_inicial} \")\n",
        "\n",
        "    # Inicia um loop 'while' que continuará executando enquanto a condição for verdadeira.\n",
        "    # A condição 'not valor.strip()' verifica se a variável 'valor' está vazia ou contém apenas espaços em branco.\n",
        "    # 'valor.strip()' remove os espaços em branco do início e do final da string.\n",
        "    # Se após a remoção dos espaços, a string estiver vazia, a condição será 'True' e o loop continuará.\n",
        "    while not valor.strip():\n",
        "        # Exibe a mensagem de erro informando ao usuário que a entrada é obrigatória.\n",
        "        print(f\"{mensagem_erro}\")\n",
        "\n",
        "        # Solicita novamente a entrada do usuário, exibindo a mensagem inicial novamente.\n",
        "        valor = input(f\"\\n{mensagem_inicial}\")\n",
        "\n",
        "    # Quando o loop 'while' terminar (ou seja, o usuário digitou algo que não é apenas espaço),\n",
        "    # a função retorna o valor digitado, com quaisquer espaços em branco iniciais e finais removidos\n",
        "    # usando o método 'strip()'.\n",
        "    return valor.strip()"
      ],
      "metadata": {
        "id": "AqfR89jBRIG8"
      },
      "execution_count": 154,
      "outputs": []
    },
    {
      "cell_type": "code",
      "source": [
        "def exibir_resultados(profissao, area, senioridade):\n",
        "    print(f\"\")\n",
        "\n",
        "    data_de_hoje = date.today().strftime(\"%d/%m/%Y\")\n",
        "\n",
        "    resposta_buscador = agente_buscador_vagas_de_emprego(profissao, area, senioridade, data_de_hoje)\n",
        "    print(\"\\n 📝 Essas foram as vagas encontradas! \\n\")\n",
        "    display(to_markdown(resposta_buscador))\n",
        "    print(\"--------------------------------------------------------------\")\n",
        "\n",
        "    print(\"\\n🔄 Processando resultados de planejamento...\")\n",
        "    resposta_planejador = agente_planejador_de_carreira(profissao, area, senioridade, resposta_buscador)\n",
        "    print(\"\\n 🚀 Algumas dicas para decolar em seu processo seletivo! 🚀 \\n\")\n",
        "    display(to_markdown(resposta_planejador))\n",
        "    print(\"--------------------------------------------------------------\")\n",
        "\n",
        "    return"
      ],
      "metadata": {
        "id": "CX4LJ5swPwTM"
      },
      "execution_count": 152,
      "outputs": []
    },
    {
      "cell_type": "code",
      "source": [
        "def main():\n",
        "  exibir_questionario = \"1\";\n",
        "\n",
        "  while exibir_questionario == \"1\" :\n",
        "    clear_output(wait=True)\n",
        "\n",
        "    print(\"\\n Olá, tudo bem por aí? 😊 Que bom te ter aqui!\")\n",
        "    print(\"\\n Sou seu assistente virtual de carreira, pronto para te dar uma mãozinha especial na busca daquela vaga de emprego e te preparar para o sucesso nas entrevistas! 🎉\")\n",
        "    print(\"\\n--------------------------------------------------------------\")\n",
        "\n",
        "    profissao = obter_input_obrigatorio(\"❓Me conta qual a profissão que te interessa encontrar vagas hoje? \", \"/n Hmm, para que eu te ajude a achar as melhores vagas, preciso que me conte qual profissão você busca, tá bem? 😉 \")\n",
        "    area = obter_input_obrigatorio(\"❓Legal! qual a área específica dentro dessa profissão você deseja atuar? (Por exemplo: UX, Gestão, Frontend, Backend) \" , \"É importante me informar qual área específica dentro dessa profissão deseja atuar!😊 \")\n",
        "    senioridade = obter_input_obrigatorio(\"❓E qual o seu nível de experiência? (Por exemplo: pleno, sênior, júnior, estágio...) \", \"Porfavor, digite seu nível de experiência para refinar a busca! 😊 \")\n",
        "\n",
        "    print(\"\\n🔄 Processando resultados...\")\n",
        "    exibir_resultados(profissao, area, senioridade)\n",
        "\n",
        "    print(\"Se deseja procurar outra vaga, digite 1: \\n\")\n",
        "    exibir_questionario = input(\"\")\n",
        "\n",
        "    if(exibir_questionario != '1'):\n",
        "      print(\"\\n Até a próxima! 😊\")\n",
        "      break;\n",
        "\n",
        "\n",
        "main()\n",
        "\n",
        ""
      ],
      "metadata": {
        "colab": {
          "base_uri": "https://localhost:8080/",
          "height": 1000
        },
        "id": "zmwil2QCHAJj",
        "outputId": "0faa7039-e8ad-4c05-eaf4-14d1c34c1443"
      },
      "execution_count": 169,
      "outputs": [
        {
          "output_type": "stream",
          "name": "stdout",
          "text": [
            "\n",
            " Olá, tudo bem por aí? 😊 Que bom te ter aqui!\n",
            "\n",
            " Sou seu assistente virtual de carreira, pronto para te dar uma mãozinha especial na busca daquela vaga de emprego e te preparar para o sucesso nas entrevistas! 🎉\n",
            "\n",
            "--------------------------------------------------------------\n",
            "\n",
            "❓Me conta qual a profissão que te interessa encontrar vagas hoje?  programador\n",
            "\n",
            "❓Legal! qual a área específica dentro dessa profissão você deseja atuar? (Por exemplo: UX, Gestão, Frontend, Backend)  fullstack\n",
            "\n",
            "❓E qual o seu nível de experiência? (Por exemplo: pleno, sênior, júnior, estágio...)  junior\n",
            "\n",
            "🔄 Processando resultados...\n",
            "\n",
            "\n",
            " 📝 Essas foram as vagas encontradas! \n",
            "\n"
          ]
        },
        {
          "output_type": "display_data",
          "data": {
            "text/plain": [
              "<IPython.core.display.Markdown object>"
            ],
            "text/markdown": "> Com base nas buscas realizadas, aqui estão algumas vagas de Programador Fullstack Júnior que correspondem aos seus critérios:\n> \n> 1.  **Desenvolvedor Full Stack Web Júnior**\n> \n> *   **Empresa:** Netvagas\n> *   **Localização:** Curitiba, Paraná, Brasil\n> *   **Descrição:** Vaga para Desenvolvedor Full Stack Web Júnior.\n> *   [Link para a vaga](https://vertexaisearch.cloud.google.com/grounding-api-redirect/AbF9wXFstjAtJVzsNVKyqq-Qd_wKXFoELYDk0HE_mt2qUAbm7eH4wul2cdN987zW-RxHGuhcFo4lzf34l6vmLJGXFbVCpyXUt-cb535bbyn3mwWyC1jkNVwdXRnTFekQuc6g7aGQqRyIjo-uwtdhl_9C)\n> \n> 2.  **Desenvolvedor Full-Stack - Júnior - PHP+React**\n> \n> *   **Empresa:** FIESC - SENAI/SC\n> *   **Localização:** Florianópolis - SC (Teletrabalho)\n> *   **Descrição:** Atuar no desenvolvimento e manutenção de sistemas web voltados para a área educacional, utilizando PHP (Symfony) no backend e React no frontend. Requisitos: Ensino médio completo com graduação em andamento ou técnico em andamento nas áreas de tecnologia da informação, ou cursos de qualificação na área dos conhecimentos específicos ou graduação completa; 6 meses de experiência em: Desenvolvimento de Softwares; Análise e manutenção de dados em banco de dados; Bibliotecas de front-end; Ferramentas de versionamento; PHP com Framework Symfony; Testes automatizados com PHPUnit; React com componentização e estilização com Tailwind e/ou Styled Components.\n> *   [Link para a vaga](https://vertexaisearch.cloud.google.com/grounding-api-redirect/AbF9wXEmi9dX_XQRgAErig9OPen9-kt2poRJoOf8Zi2yK1pueoFS9EsMXJHgN1FIDQ0OuGUIpTWIi-lmyuOjoQxKLMjUzpnntLyZeoIw7iySQEsfv_igoL2Uwbgu7k1DCiC3r6b5HWOOgN-gPJ74lLvdAshevfYvKdgK7AhbRbpTMpviMwta3kF0tZfY16mAZ-zNJveBWym-o8lbeoU4oadqyDkyOSlo)\n> \n> 3.  **Desenvolvedor Full Stack Junior**\n> \n> *   **Empresa:** Grupo Roma Brasil\n> *   **Localização:** Belo Horizonte - MG (Presencial)\n> *   **Descrição:** Desenvolvedor Full Stack Junior. Requisitos: Ensino Superior completo ou cursando em, Ciências da Computação ou Sistemas de informação; Experiência em desenvolvimento de Software sob medida; Conhecimentos sólidos em OOP, MVC e Integrações Rest; Conhecimentos sólidos na plataforma Microsoft Azure; Domínio profundo de pelo menos duas a três linguagens de programação populares (Frameworks, PHP, MYSQL, SQL Server, Laravel, API, etc.).\n> *   [Link para a vaga](https://vertexaisearch.cloud.google.com/grounding-api-redirect/AbF9wXHiruJR4QOLOUgWQ69MYaXeljJ-qcpa62J1iYpyn8GL7o7kaHIJDAuIudI7_6cJ6FLCGONf8POWC62XZg3JMd3sRsP6UIjTCabaRp7Cusq1jzGOZaYPa8Z-651nMx72R2RXuQFSALA7JbhWHhrlWpeCSh1sH3qGjfuAbPJtUWbWp5btY99Ttw==)\n> \n> 4.  **Desenvolvedor Fullstack Júnior**\n> \n> *   **Empresa:** LWSA\n> *   **Localização:** Remoto\n> *   **Descrição:** Oportunidade para Desenvolvedor Fullstack Júnior em um ambiente colaborativo e inovador. Habilidades Requeridas: PHP Laravel Vue.js HTML CSS JavaScript MySQL Git Docker.\n> *   [Link para a vaga](https://vertexaisearch.cloud.google.com/grounding-api-redirect/AbF9wXFKx9kzctL7qEM7GEPP4jdfzmQd8q8yTJ5hWabwrC7S2WpaBFc0S0R-2i0Ov4tUkmyz8VzTkKfxMYkIbozp5lRcZarN59GRP4ZzdmcaLcKKz03ntL5lKo1Oov-zHjrRMA6eTL4SOC9hJJKUjJ4w7Qyj94iXLhd_9kxz9qSHkkoGs1DINaG-YLMBDWJ2sxVtEzwS3-M=)\n> \n> 5.  **Programador Full Stack Junior**\n> \n> *   **Empresa:** Teknisa\n> *   **Localização:** Belo Horizonte - MG (Híbrido)\n> *   **Descrição:** Participar de todas as etapas de um processo de desenvolvimento de software, desde a concepção das funcionalidades em conjunto com o time de produto até a implementação, manutenção e versionamento dos projetos; Ter a proatividade em compartilhar seus conhecimentos, contribuindo com desenvolvimento profissional da equipe; Deverá levar em consideração aspectos relacionados à escalabilidade, performance, qualidade de código e arquitetura de software; Sugerir e aplicar melhorias no processo de desenvolvimento; Buscar constantemente aperfeiçoamento tecnológico, mantendo-se atualizado quanto as mais novas tecnologias e metodologias de desenvolvimentos utilizadas no mercado; Ser comprometido com a equipe.\n> *   [Link para a vaga](https://vertexaisearch.cloud.google.com/grounding-api-redirect/AbF9wXHKDbTRQUz4gmKCRom4H81kX561bGAw-eF3xVJJdGHb6Ml6VYuAjaHjBNpqHXfaZ3xGxx8o6BekR7BxhQwRwQDoWXAkGjO7cF0B6BZCh4RPdhMtbqTplhcPPkN99ow3tCWiy7Ku93oN4_MeLkp_bHpnmBji0oACoxZWVRtcx5o50fpjLasUSbAJ0MoXCa9MSxULpxgSZtiP8DnvIgFIfPfM4ClQ6mAZCdkH)\n> \n"
          },
          "metadata": {}
        },
        {
          "output_type": "stream",
          "name": "stdout",
          "text": [
            "--------------------------------------------------------------\n",
            "\n",
            "🔄 Processando resultados de planejamento...\n",
            "\n",
            " 🚀 Algumas dicas para decolar em seu processo seletivo! 🚀 \n",
            "\n"
          ]
        },
        {
          "output_type": "display_data",
          "data": {
            "text/plain": [
              "<IPython.core.display.Markdown object>"
            ],
            "text/markdown": "> Olá! Com prazer, vou te ajudar a se destacar como programador fullstack júnior nessas oportunidades.\n> \n> **1. Habilidades e Experiências a Enfatizar:**\n> \n> *   **Conhecimento em Front-end e Back-end:** Demonstre suas habilidades em linguagens como HTML, CSS, JavaScript (React, Vue.js), e em back-end com PHP (Laravel, Symfony), Node.js ou Python. As vagas mencionam essas tecnologias como diferenciais.\n> *   **Banco de Dados:** Enfatize sua experiência com MySQL, SQL Server, ou outros bancos de dados NoSQL, mostrando familiaridade com modelagem de dados e otimização de consultas.\n> *   **Experiência com Frameworks:** Destaque seu conhecimento em frameworks como Laravel, Symfony, React, Vue.js, mostrando como você pode acelerar o desenvolvimento e manter a qualidade do código.\n> *   **Versionamento e Metodologias Ágeis:** Mostre que você sabe usar Git para versionamento de código e que está familiarizado com metodologias ágeis, como Scrum ou Kanban, para trabalho em equipe.\n> *   **Cloud e DevOps:** Se tiver experiência com plataformas como Microsoft Azure ou Docker, mencione-as, pois o conhecimento em cloud e DevOps é cada vez mais valorizado.\n> \n> **2. Dicas de Organização para Candidaturas:**\n> \n> *   **Currículo Adaptado:** Ajuste seu currículo para cada vaga, destacando as habilidades e experiências mais relevantes para a descrição da vaga.\n> *   **Portfólio Atraente:** Crie um portfólio online com seus projetos, incluindo uma descrição detalhada do que você fez e as tecnologias utilizadas.\n> \n> **3. Dicas Gerais para se Destacar no Mercado de Trabalho como Programador Fullstack:**\n> \n> *   **Aprendizado Contínuo:** O mercado de tecnologia está sempre mudando, então invista em cursos online, bootcamps e certificações para se manter atualizado com as últimas tendências.\n> *   **Networking:** Participe de eventos da área, meetups e grupos online para conhecer outros profissionais, trocar experiências e ficar por dentro de novas oportunidades.\n> *   **Projetos Pessoais:** Desenvolva projetos pessoais para aplicar seus conhecimentos, experimentar novas tecnologias e construir um portfólio que demonstre suas habilidades.\n> *   **Habilidades de Comunicação:** Desenvolva suas habilidades de comunicação para apresentar suas ideias de forma clara e eficaz, tanto para outros desenvolvedores quanto para clientes e stakeholders.\n> \n> Espero que estas dicas te ajudem a se destacar nas candidaturas e a conquistar a vaga de programador fullstack júnior que você deseja! Boa sorte!\n> \n"
          },
          "metadata": {}
        },
        {
          "output_type": "stream",
          "name": "stdout",
          "text": [
            "--------------------------------------------------------------\n",
            "Se deseja procurar outra vaga, digite 1: \n",
            "\n",
            "0\n",
            "\n",
            " Até a próxima! 😊\n"
          ]
        }
      ]
    },
    {
      "cell_type": "markdown",
      "source": [],
      "metadata": {
        "id": "HYQMqru3Jpdh"
      }
    }
  ]
}